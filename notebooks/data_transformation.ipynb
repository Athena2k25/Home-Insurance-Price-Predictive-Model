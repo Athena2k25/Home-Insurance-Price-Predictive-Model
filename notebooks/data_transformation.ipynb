{
 "cells": [
  {
   "cell_type": "code",
   "execution_count": 38,
   "id": "edd2aa22",
   "metadata": {},
   "outputs": [],
   "source": [
    "import os \n",
    "path= os.getcwd()\n",
    "\n",
    "if path.endswith('notebooks'):\n",
    "    os.chdir('../')"
   ]
  },
  {
   "cell_type": "code",
   "execution_count": 50,
   "id": "4a231caa",
   "metadata": {},
   "outputs": [
    {
     "name": "stdout",
     "output_type": "stream",
     "text": [
      "created directory at: artifacts/data_transformation\n",
      "✅ Features and target prepared for CatBoost\n",
      "Categorical columns: ['property_type', 'coverage_level', 'broker_name', 'ownership_status', 'energy_efficiency_rating', 'pcd']\n"
     ]
    }
   ],
   "source": [
    "# import dependencies\n",
    "import numpy as np \n",
    "import pandas as pd \n",
    "import seaborn as sns \n",
    "from pathlib import Path\n",
    "import matplotlib.pyplot as plt\n",
    "from src.Home_Premium_Prediction.utils import create_directories, read_yaml\n",
    "from src.Home_Premium_Prediction.constants import CONFIG_FILE_PATH\n",
    "\n",
    "class DataTransfromationConfig:\n",
    "    def __init__(self, data_transformation_dir: Path, train_data_path: Path, processed_data_path: Path):\n",
    "        self.data_transformation_dir = data_transformation_dir\n",
    "        self.train_data_path = train_data_path\n",
    "        self.processed_data_path = processed_data_path\n",
    "\n",
    "class DataTransformationConfigManager:\n",
    "    def __init__(self, config_file=CONFIG_FILE_PATH):\n",
    "        self.config_file = read_yaml(config_file)\n",
    "    \n",
    "    def get_data_transformation_config(self) -> DataTransfromationConfig:\n",
    "        create_directories([self.config_file['data_transformation']['data_transformation_dir']])\n",
    "\n",
    "        return DataTransfromationConfig(\n",
    "            data_transformation_dir=self.config_file['data_transformation']['data_transformation_dir'],\n",
    "            train_data_path=self.config_file['data_transformation']['train_data_path'],\n",
    "            processed_data_path=self.config_file['data_transformation']['processed_data_path']\n",
    "        )\n",
    "\n",
    "class DataTransformation:\n",
    "    def __init__(self, config: DataTransfromationConfig):\n",
    "        self.config = config\n",
    "    \n",
    "    def read_data(self):\n",
    "        self.df = pd.read_csv(self.config.train_data_path)\n",
    "\n",
    "    def drop_unwanted_cols(self):\n",
    "        self.df = self.df.drop(columns=['uuid', 'quote_id'], axis=1)\n",
    "\n",
    "    def splitting_data_into_features_and_target(self):\n",
    "        self.features = self.df.drop(columns=['Premium'], axis=1)\n",
    "        self.target = self.df['Premium']\n",
    "\n",
    "    def prepare_data_for_catboost(self):\n",
    "        self.categorical_columns = self.features.select_dtypes(include=['category', 'object']).columns.to_list()\n",
    "        return self.features, self.target, self.categorical_columns\n",
    "\n",
    "# ✅ Main runner block\n",
    "if __name__ == \"__main__\":\n",
    "    config = DataTransformationConfigManager().get_data_transformation_config()\n",
    "    transformer = DataTransformation(config)\n",
    "    \n",
    "    transformer.read_data()\n",
    "    transformer.drop_unwanted_cols()\n",
    "    transformer.splitting_data_into_features_and_target()\n",
    "    \n",
    "    X, y, cat_cols = transformer.prepare_data_for_catboost()\n",
    "    \n",
    "    print(\"✅ Features and target prepared for CatBoost\")\n",
    "    print(\"Categorical columns:\", cat_cols)\n"
   ]
  },
  {
   "cell_type": "code",
   "execution_count": 1,
   "id": "9051b6f7",
   "metadata": {},
   "outputs": [
    {
     "name": "stdout",
     "output_type": "stream",
     "text": [
      "Unexpected exception formatting exception. Falling back to standard exception\n"
     ]
    },
    {
     "name": "stderr",
     "output_type": "stream",
     "text": [
      "Traceback (most recent call last):\n",
      "  File \"c:\\Users\\Bilal Ahmad\\Desktop\\Home-Insurance-Price-Predictive-Model\\.venv\\Lib\\site-packages\\IPython\\core\\interactiveshell.py\", line 3670, in run_code\n",
      "    exec(code_obj, self.user_global_ns, self.user_ns)\n",
      "    ~~~~^^^^^^^^^^^^^^^^^^^^^^^^^^^^^^^^^^^^^^^^^^^^^\n",
      "  File \"C:\\Users\\Bilal Ahmad\\AppData\\Local\\Temp\\ipykernel_3472\\2411327631.py\", line 1, in <module>\n",
      "    X # done\n",
      "    ^\n",
      "NameError: name 'X' is not defined\n",
      "\n",
      "During handling of the above exception, another exception occurred:\n",
      "\n",
      "Traceback (most recent call last):\n",
      "  File \"c:\\Users\\Bilal Ahmad\\Desktop\\Home-Insurance-Price-Predictive-Model\\.venv\\Lib\\site-packages\\IPython\\core\\interactiveshell.py\", line 2176, in showtraceback\n",
      "    stb = self.InteractiveTB.structured_traceback(\n",
      "        etype, value, tb, tb_offset=tb_offset\n",
      "    )\n",
      "  File \"c:\\Users\\Bilal Ahmad\\Desktop\\Home-Insurance-Price-Predictive-Model\\.venv\\Lib\\site-packages\\IPython\\core\\ultratb.py\", line 1182, in structured_traceback\n",
      "    return FormattedTB.structured_traceback(\n",
      "           ~~~~~~~~~~~~~~~~~~~~~~~~~~~~~~~~^\n",
      "        self, etype, evalue, etb, tb_offset, context\n",
      "        ^^^^^^^^^^^^^^^^^^^^^^^^^^^^^^^^^^^^^^^^^^^^\n",
      "    )\n",
      "    ^\n",
      "  File \"c:\\Users\\Bilal Ahmad\\Desktop\\Home-Insurance-Price-Predictive-Model\\.venv\\Lib\\site-packages\\IPython\\core\\ultratb.py\", line 1053, in structured_traceback\n",
      "    return VerboseTB.structured_traceback(\n",
      "           ~~~~~~~~~~~~~~~~~~~~~~~~~~~~~~^\n",
      "        self, etype, evalue, etb, tb_offset, context\n",
      "        ^^^^^^^^^^^^^^^^^^^^^^^^^^^^^^^^^^^^^^^^^^^^\n",
      "    )\n",
      "    ^\n",
      "  File \"c:\\Users\\Bilal Ahmad\\Desktop\\Home-Insurance-Price-Predictive-Model\\.venv\\Lib\\site-packages\\IPython\\core\\ultratb.py\", line 861, in structured_traceback\n",
      "    formatted_exceptions: list[list[str]] = self.format_exception_as_a_whole(\n",
      "                                            ~~~~~~~~~~~~~~~~~~~~~~~~~~~~~~~~^\n",
      "        etype, evalue, etb, context, tb_offset\n",
      "        ^^^^^^^^^^^^^^^^^^^^^^^^^^^^^^^^^^^^^^\n",
      "    )\n",
      "    ^\n",
      "  File \"c:\\Users\\Bilal Ahmad\\Desktop\\Home-Insurance-Price-Predictive-Model\\.venv\\Lib\\site-packages\\IPython\\core\\ultratb.py\", line 773, in format_exception_as_a_whole\n",
      "    frames.append(self.format_record(record))\n",
      "                  ~~~~~~~~~~~~~~~~~~^^^^^^^^\n",
      "  File \"c:\\Users\\Bilal Ahmad\\Desktop\\Home-Insurance-Price-Predictive-Model\\.venv\\Lib\\site-packages\\IPython\\core\\ultratb.py\", line 652, in format_record\n",
      "    frame_info.lines,\n",
      "    ^^^^^^^^^^^^^^^^\n",
      "  File \"c:\\Users\\Bilal Ahmad\\Desktop\\Home-Insurance-Price-Predictive-Model\\.venv\\Lib\\site-packages\\IPython\\core\\tbtools.py\", line 355, in lines\n",
      "    return self._sd.lines  # type: ignore[misc]\n",
      "           ^^^^^^^^^^^^^^\n",
      "  File \"c:\\Users\\Bilal Ahmad\\Desktop\\Home-Insurance-Price-Predictive-Model\\.venv\\Lib\\site-packages\\stack_data\\utils.py\", line 145, in cached_property_wrapper\n",
      "    value = obj.__dict__[self.func.__name__] = self.func(obj)\n",
      "                                               ~~~~~~~~~^^^^^\n",
      "  File \"c:\\Users\\Bilal Ahmad\\Desktop\\Home-Insurance-Price-Predictive-Model\\.venv\\Lib\\site-packages\\stack_data\\core.py\", line 734, in lines\n",
      "    pieces = self.included_pieces\n",
      "             ^^^^^^^^^^^^^^^^^^^^\n",
      "  File \"c:\\Users\\Bilal Ahmad\\Desktop\\Home-Insurance-Price-Predictive-Model\\.venv\\Lib\\site-packages\\stack_data\\utils.py\", line 145, in cached_property_wrapper\n",
      "    value = obj.__dict__[self.func.__name__] = self.func(obj)\n",
      "                                               ~~~~~~~~~^^^^^\n",
      "  File \"c:\\Users\\Bilal Ahmad\\Desktop\\Home-Insurance-Price-Predictive-Model\\.venv\\Lib\\site-packages\\stack_data\\core.py\", line 677, in included_pieces\n",
      "    scope_pieces = self.scope_pieces\n",
      "                   ^^^^^^^^^^^^^^^^^\n",
      "  File \"c:\\Users\\Bilal Ahmad\\Desktop\\Home-Insurance-Price-Predictive-Model\\.venv\\Lib\\site-packages\\stack_data\\utils.py\", line 145, in cached_property_wrapper\n",
      "    value = obj.__dict__[self.func.__name__] = self.func(obj)\n",
      "                                               ~~~~~~~~~^^^^^\n",
      "  File \"c:\\Users\\Bilal Ahmad\\Desktop\\Home-Insurance-Price-Predictive-Model\\.venv\\Lib\\site-packages\\stack_data\\core.py\", line 614, in scope_pieces\n",
      "    scope_start, scope_end = self.source.line_range(self.scope)\n",
      "                             ~~~~~~~~~~~~~~~~~~~~~~^^^^^^^^^^^^\n",
      "  File \"c:\\Users\\Bilal Ahmad\\Desktop\\Home-Insurance-Price-Predictive-Model\\.venv\\Lib\\site-packages\\stack_data\\core.py\", line 178, in line_range\n",
      "    return line_range(self.asttext(), node)\n",
      "                      ^^^^^^^^^^^^\n",
      "AttributeError: 'Source' object has no attribute 'asttext'\n"
     ]
    }
   ],
   "source": [
    "X # done"
   ]
  },
  {
   "cell_type": "code",
   "execution_count": 49,
   "id": "88380938",
   "metadata": {},
   "outputs": [
    {
     "data": {
      "text/plain": [
       "0         1740.49\n",
       "1          677.71\n",
       "2         1441.61\n",
       "3         1957.38\n",
       "4         1543.64\n",
       "           ...   \n",
       "999995    1578.68\n",
       "999996     972.78\n",
       "999997    1768.00\n",
       "999998    1695.68\n",
       "999999    1198.07\n",
       "Name: Premium, Length: 1000000, dtype: float64"
      ]
     },
     "execution_count": 49,
     "metadata": {},
     "output_type": "execute_result"
    }
   ],
   "source": [
    "y"
   ]
  }
 ],
 "metadata": {
  "kernelspec": {
   "display_name": ".venv",
   "language": "python",
   "name": "python3"
  },
  "language_info": {
   "codemirror_mode": {
    "name": "ipython",
    "version": 3
   },
   "file_extension": ".py",
   "mimetype": "text/x-python",
   "name": "python",
   "nbconvert_exporter": "python",
   "pygments_lexer": "ipython3",
   "version": "3.13.2"
  }
 },
 "nbformat": 4,
 "nbformat_minor": 5
}
