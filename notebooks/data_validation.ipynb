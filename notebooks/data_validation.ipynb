{
 "cells": [
  {
   "cell_type": "code",
   "execution_count": 38,
   "id": "dc132021",
   "metadata": {},
   "outputs": [],
   "source": [
    "import os\n",
    "path= os.getcwd()\n",
    "\n",
    "if path.endswith(\"notebooks\"):\n",
    "    os.chdir(\"../\")"
   ]
  },
  {
   "cell_type": "code",
   "execution_count": 39,
   "id": "aaa9e9b4",
   "metadata": {},
   "outputs": [],
   "source": [
    "# import dependencies\n",
    "import pandas as pd \n",
    "from pathlib import Path\n",
    "from src.Home_Premium_Prediction.utils import read_yaml, create_directories\n",
    "from src.Home_Premium_Prediction.constants import CONFIG_FILE_PATH, SCHEMA_FILE_PATH"
   ]
  },
  {
   "cell_type": "code",
   "execution_count": 41,
   "id": "63056314",
   "metadata": {},
   "outputs": [
    {
     "name": "stdout",
     "output_type": "stream",
     "text": [
      "created directory at: artifacts/data_validation\n",
      "Data validation passed? True\n"
     ]
    }
   ],
   "source": [
    "class DataValidationConfig:\n",
    "    def __init__(self, data_validation_dir: Path, train_data_path: str, status_file: Path, schema: dict):\n",
    "        self.data_validation_dir = data_validation_dir\n",
    "        self.train_data_path = train_data_path\n",
    "        self.status_file = status_file\n",
    "        self.schema = schema\n",
    "\n",
    "\n",
    "class DataValidationConfigManager:\n",
    "    def __init__(self, config_file=CONFIG_FILE_PATH, schema_file=SCHEMA_FILE_PATH):\n",
    "        self.config_file = read_yaml(config_file)\n",
    "        self.schema_file = read_yaml(schema_file)\n",
    "\n",
    "    def get_data_validation_config(self) -> DataValidationConfig:\n",
    "        create_directories([self.config_file['data_validation']['data_validation_dir']])\n",
    "        schema = self.schema_file['COLUMNS']\n",
    "        return DataValidationConfig(\n",
    "            data_validation_dir=self.config_file['data_validation']['data_validation_dir'],\n",
    "            train_data_path=self.config_file['data_validation']['train_data_path'],\n",
    "            status_file=self.config_file['data_validation']['status_file'],\n",
    "            schema=schema\n",
    "        )\n",
    "\n",
    "\n",
    "class DataValidation:\n",
    "    def __init__(self, config: DataValidationConfig):\n",
    "        self.config = config\n",
    "\n",
    "    def get_data_validation(self) -> bool:\n",
    "        try:\n",
    "            data = pd.read_csv(self.config.train_data_path)\n",
    "            expected_columns = self.config.schema\n",
    "\n",
    "            # 1. Validate columns exist\n",
    "            column_match = all(col in data.columns for col in expected_columns)\n",
    "\n",
    "            # 2. Validate column types\n",
    "            dtype_match = all(str(data[col].dtype) == expected_dtype for col, expected_dtype in expected_columns.items() if col in data.columns)\n",
    "\n",
    "            validation_status = column_match and dtype_match\n",
    "\n",
    "            # 3. Save status to file\n",
    "            with open(self.config.status_file, 'w') as f:\n",
    "                f.write(f\"Validation status: {validation_status}\")\n",
    "\n",
    "            return validation_status\n",
    "\n",
    "        except Exception as e:\n",
    "            raise e\n",
    "\n",
    "\n",
    "\n",
    "if __name__ == \"__main__\":\n",
    "    config_manager = DataValidationConfigManager()\n",
    "    validation_config = config_manager.get_data_validation_config()\n",
    "\n",
    "    validator = DataValidation(config=validation_config)\n",
    "    status = validator.get_data_validation()\n",
    "    print(f\"Data validation passed? {status}\")"
   ]
  },
  {
   "cell_type": "code",
   "execution_count": null,
   "id": "807dbb32",
   "metadata": {},
   "outputs": [],
   "source": [
    "# data validation done"
   ]
  }
 ],
 "metadata": {
  "kernelspec": {
   "display_name": ".venv",
   "language": "python",
   "name": "python3"
  },
  "language_info": {
   "codemirror_mode": {
    "name": "ipython",
    "version": 3
   },
   "file_extension": ".py",
   "mimetype": "text/x-python",
   "name": "python",
   "nbconvert_exporter": "python",
   "pygments_lexer": "ipython3",
   "version": "3.13.2"
  }
 },
 "nbformat": 4,
 "nbformat_minor": 5
}
