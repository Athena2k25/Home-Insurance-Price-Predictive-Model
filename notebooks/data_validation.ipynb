{
 "cells": [
  {
   "cell_type": "code",
   "execution_count": 7,
   "id": "dc132021",
   "metadata": {},
   "outputs": [],
   "source": [
    "import os\n",
    "path= os.getcwd()\n",
    "\n",
    "if path.endswith(\"notebooks\"):\n",
    "    os.chdir(\"../\")"
   ]
  },
  {
   "cell_type": "code",
   "execution_count": 11,
   "id": "aaa9e9b4",
   "metadata": {},
   "outputs": [],
   "source": [
    "# import dependencies\n",
    "import pandas as pd \n",
    "from pathlib import Path\n",
    "from src.Home_Premium_Prediction.utils import read_yaml, create_directories\n",
    "from src.Home_Premium_Prediction.constants import CONFIG_FILE_PATH, SCHEMA_FILE_PATH"
   ]
  },
  {
   "cell_type": "code",
   "execution_count": 12,
   "id": "dc47fed5",
   "metadata": {},
   "outputs": [],
   "source": [
    "class DataValidationConfig:\n",
    "\n",
    "    def __init__(self, data_validation_dir: Path, train_data_path: str, status_file: Path):\n",
    "        self.data_validation_dir= data_validation_dir\n",
    "        self.train_data_path= train_data_path\n",
    "        self.status_file= status_file"
   ]
  },
  {
   "cell_type": "code",
   "execution_count": null,
   "id": "ce908fa5",
   "metadata": {},
   "outputs": [],
   "source": [
    "class DataValidationConfigManager:\n",
    "\n",
    "    def __init__(\n",
    "            self, \n",
    "            config_file= CONFIG_FILE_PATH,\n",
    "            schema_file=  SCHEMA_FILE_PATH):\n",
    "        # read both yaml file\n",
    "        self.config_file= read_yaml(config_file)\n",
    "        self.schema_file= read_yaml(schema_file)\n",
    "\n",
    "    def get_data_validation_config(self) -> DataValidationConfig:\n",
    "        create_directories(self.config_file['data_validation']['data_validation_dir'])"
   ]
  },
  {
   "cell_type": "code",
   "execution_count": null,
   "id": "38e3a2e3",
   "metadata": {},
   "outputs": [],
   "source": []
  }
 ],
 "metadata": {
  "kernelspec": {
   "display_name": ".venv",
   "language": "python",
   "name": "python3"
  },
  "language_info": {
   "codemirror_mode": {
    "name": "ipython",
    "version": 3
   },
   "file_extension": ".py",
   "mimetype": "text/x-python",
   "name": "python",
   "nbconvert_exporter": "python",
   "pygments_lexer": "ipython3",
   "version": "3.13.2"
  }
 },
 "nbformat": 4,
 "nbformat_minor": 5
}
