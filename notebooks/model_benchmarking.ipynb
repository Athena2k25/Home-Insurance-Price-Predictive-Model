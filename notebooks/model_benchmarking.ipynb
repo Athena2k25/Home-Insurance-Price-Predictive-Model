{
 "cells": [
  {
   "cell_type": "code",
   "execution_count": 1,
   "id": "5d57fd47",
   "metadata": {},
   "outputs": [],
   "source": [
    "import os \n",
    "path= os.getcwd()\n",
    "\n",
    "if path.endswith('notebooks'):\n",
    "    os.chdir('../')"
   ]
  },
  {
   "cell_type": "code",
   "execution_count": 14,
   "id": "c15e72ef",
   "metadata": {},
   "outputs": [],
   "source": [
    "# import dependencies\n",
    "import numpy as np \n",
    "import pandas as pd \n",
    "from sklearn.linear_model import LinearRegression, Ridge, Lasso, ElasticNet\n",
    "from sklearn.ensemble import RandomForestRegressor, GradientBoostingRegressor, AdaBoostRegressor, StackingRegressor\n",
    "from sklearn.metrics import r2_score, mean_absolute_error, mean_squared_error, root_mean_squared_error\n",
    "from xgboost import XGBRegressor\n",
    "from lightgbm import LGBMRegressor\n",
    "from catboost import CatBoostRegressor"
   ]
  },
  {
   "cell_type": "code",
   "execution_count": 11,
   "id": "5d380149",
   "metadata": {},
   "outputs": [
    {
     "name": "stdout",
     "output_type": "stream",
     "text": [
      "              Model  R2 Score            MSE         MAE        RMSE\n",
      "0  LinearRegression  0.974970    4355.437771   46.638889   65.995741\n",
      "1             Ridge  0.974970    4355.456117   46.634140   65.995880\n",
      "2             Lasso  0.974616    4417.084003   47.072798   66.461147\n",
      "3        ElasticNet  0.296923  122341.566084  298.697222  349.773593\n"
     ]
    }
   ],
   "source": [
    "# Load train and test features/targets\n",
    "x_train = pd.read_csv('artifacts/data_transformation/train_data/train_features.csv')\n",
    "y_train = pd.read_csv('artifacts/data_transformation/train_data/train_target.csv')\n",
    "x_test = pd.read_csv('artifacts/data_transformation/test_data/test_features.csv')\n",
    "y_test = pd.read_csv('artifacts/data_transformation/test_data/test_target.csv')\n",
    "\n",
    "# Define the models\n",
    "glm_models = {\n",
    "    'LinearRegression': LinearRegression(),\n",
    "    'Ridge': Ridge(),\n",
    "    'Lasso': Lasso(),\n",
    "    'ElasticNet': ElasticNet()\n",
    "}\n",
    "\n",
    "# List to store results\n",
    "results = []\n",
    "\n",
    "# Train, predict and evaluate\n",
    "for name, model in glm_models.items():\n",
    "    model.fit(x_train, y_train)\n",
    "    y_pred = model.predict(x_test)\n",
    "    \n",
    "    r2 = r2_score(y_test, y_pred)\n",
    "    mse = mean_squared_error(y_test, y_pred)\n",
    "    mae = mean_absolute_error(y_test, y_pred)\n",
    "    rmse = np.sqrt(mse)\n",
    "\n",
    "    results.append({\n",
    "        'Model': name,\n",
    "        'R2 Score': r2,\n",
    "        'MSE': mse,\n",
    "        'MAE': mae,\n",
    "        'RMSE': rmse\n",
    "    })\n",
    "\n",
    "# Convert to DataFrame\n",
    "results_df = pd.DataFrame(results)\n",
    "print(results_df)\n"
   ]
  },
  {
   "cell_type": "code",
   "execution_count": 13,
   "id": "54dc5fc7",
   "metadata": {},
   "outputs": [
    {
     "name": "stdout",
     "output_type": "stream",
     "text": [
      "                   Model  R2 Score          MSE        MAE       RMSE\n",
      "0                XGBoost  0.983927  2796.854004  42.216209  52.885291\n",
      "1               LightGBM  0.982120  3111.304095  44.358122  55.779065\n",
      "2               CatBoost  0.985175  2579.604512  40.551416  50.789807\n",
      "3       GradientBoosting  0.967599  5638.140483  59.318145  75.087552\n",
      "4      AdaBoostRegressor  0.944904  9587.146022  78.846816  97.913973\n",
      "5  RandomForestRegressor  0.983104  2940.052561  43.281529  54.222252\n"
     ]
    }
   ],
   "source": [
    " # Define GBM models\n",
    "gbm_models = {\n",
    "    'XGBoost': XGBRegressor(verbosity=0, n_estimators=50, n_jobs=-1),\n",
    "    'LightGBM': LGBMRegressor(n_estimators=50, n_jobs=-1),\n",
    "    'CatBoost': CatBoostRegressor(verbose=0, iterations=50, thread_count=-1),\n",
    "    'GradientBoosting': GradientBoostingRegressor(n_estimators=50),\n",
    "    'AdaBoostRegressor': AdaBoostRegressor(n_estimators=50),\n",
    "    'RandomForestRegressor': RandomForestRegressor(n_estimators=50, n_jobs=-1)\n",
    "\n",
    "}\n",
    "\n",
    "# Store results\n",
    "results = []\n",
    "\n",
    "for name, model in gbm_models.items():\n",
    "    model.fit(x_train, y_train.values.ravel())\n",
    "    y_pred = model.predict(x_test)\n",
    "    \n",
    "    r2 = r2_score(y_test, y_pred)\n",
    "    mse = mean_squared_error(y_test, y_pred)\n",
    "    mae = mean_absolute_error(y_test, y_pred)\n",
    "    rmse = np.sqrt(mse)\n",
    "\n",
    "    results.append({\n",
    "        'Model': name,\n",
    "        'R2 Score': r2,\n",
    "        'MSE': mse,\n",
    "        'MAE': mae,\n",
    "        'RMSE': rmse\n",
    "    })\n",
    "\n",
    "# Save results in a DataFrame\n",
    "gbm_results_df = pd.DataFrame(results)\n",
    "print(gbm_results_df) "
   ]
  },
  {
   "cell_type": "markdown",
   "id": "9634446d",
   "metadata": {},
   "source": [
    " * On Individual level catboost performed best"
   ]
  },
  {
   "cell_type": "code",
   "execution_count": 15,
   "id": "fa25cf00",
   "metadata": {},
   "outputs": [
    {
     "name": "stdout",
     "output_type": "stream",
     "text": [
      "Stacked Model - R2: 0.9852, MSE: 2578.8230, MAE: 40.5465, RMSE: 50.7821\n"
     ]
    }
   ],
   "source": [
    "# Define base models\n",
    "base_models = [\n",
    "    ('catboost', CatBoostRegressor(verbose=0, iterations=50, thread_count=-1)),\n",
    "    ('linear', LinearRegression())\n",
    "]\n",
    "\n",
    "# Define stacked model\n",
    "stacked_model = StackingRegressor(\n",
    "    estimators=base_models,\n",
    "    final_estimator=LinearRegression()\n",
    ")\n",
    "\n",
    "# Fit and predict\n",
    "stacked_model.fit(x_train, y_train.values.ravel())\n",
    "y_pred = stacked_model.predict(x_test)\n",
    "\n",
    "# Evaluate\n",
    "r2 = r2_score(y_test, y_pred)\n",
    "mse = mean_squared_error(y_test, y_pred)\n",
    "mae = mean_absolute_error(y_test, y_pred)\n",
    "rmse = np.sqrt(mse)\n",
    "\n",
    "print(f\"Stacked Model - R2: {r2:.4f}, MSE: {mse:.4f}, MAE: {mae:.4f}, RMSE: {rmse:.4f}\")"
   ]
  },
  {
   "cell_type": "markdown",
   "id": "39788cf3",
   "metadata": {},
   "source": [
    "* Stacked Model improved via negligable amount."
   ]
  },
  {
   "cell_type": "code",
   "execution_count": null,
   "id": "0160ad0d",
   "metadata": {},
   "outputs": [],
   "source": []
  }
 ],
 "metadata": {
  "kernelspec": {
   "display_name": ".venv",
   "language": "python",
   "name": "python3"
  },
  "language_info": {
   "codemirror_mode": {
    "name": "ipython",
    "version": 3
   },
   "file_extension": ".py",
   "mimetype": "text/x-python",
   "name": "python",
   "nbconvert_exporter": "python",
   "pygments_lexer": "ipython3",
   "version": "3.13.2"
  }
 },
 "nbformat": 4,
 "nbformat_minor": 5
}
